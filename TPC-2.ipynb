{
 "cells": [
  {
   "cell_type": "markdown",
   "metadata": {},
   "source": [
    "# Learning and Decision Making"
   ]
  },
  {
   "cell_type": "markdown",
   "metadata": {},
   "source": [
    "## Homework 2"
   ]
  },
  {
   "cell_type": "markdown",
   "metadata": {},
   "source": [
    "### Exercise 1"
   ]
  },
  {
   "cell_type": "markdown",
   "metadata": {},
   "source": [
    "#### (a)"
   ]
  },
  {
   "cell_type": "code",
   "execution_count": 4,
   "metadata": {},
   "outputs": [],
   "source": [
    "import numpy as np\n",
    "\n",
    "X = [1,2,3,4,5,6]\n",
    "\n",
    "A = ['UP','DOWN','LEFT','RIGHT']"
   ]
  },
  {
   "cell_type": "markdown",
   "metadata": {},
   "source": [
    "#### (b)"
   ]
  },
  {
   "cell_type": "code",
   "execution_count": 5,
   "metadata": {},
   "outputs": [],
   "source": [
    "#Probablity matrix for D\n",
    "pmD = np.array([[0.3,0.1,0,0.6,0,0],\n",
    "                [0.1,0.2,0.1,0,0.6,0],\n",
    "                [0,0.1,0.3,0,0,0.6],\n",
    "                [0.1,0,0,0.8,0.1,0],\n",
    "                [0,0.1,0,0.1,0.7,0.1],\n",
    "                [0,0,0.1,0,0.1,0.8]])\n",
    "\n",
    "#Probablity matrix for U\n",
    "pmU = np.array([[0.8,0.1,0,0.1,0,0],\n",
    "                [0.1,0.7,0.1,0,0.1,0],\n",
    "                [0,0.1,0.8,0,0,0.1],\n",
    "                [0.6,0,0,0.3,0.1,0],\n",
    "                [0,0.6,0,0.1,0.2,0.1],\n",
    "                [0,0,0.6,0,0.1,0.3]])\n",
    "\n",
    "#Probablity matrix for L\n",
    "pmL = np.array([[0.8,0.1,0,0.1,0,0],\n",
    "                [0.6,0.2,0.1,0,0.1,0],\n",
    "                [0,0.6,0.3,0,0,0.1],\n",
    "                [0.1,0,0,0.8,0.1,0],\n",
    "                [0,0.1,0,0.6,0.2,0.1],\n",
    "                [0,0,0.1,0,0.6,0.3]])\n",
    "\n",
    "#Probablity matrix for R\n",
    "pmR = np.array([[0.3,0.6,0,0.1,0,0],\n",
    "                [0.1,0.2,0.6,0,0.1,0],\n",
    "                [0,0.1,0.8,0,0,0.1],\n",
    "                [0.1,0,0,0.3,0.6,0],\n",
    "                [0,0.1,0,0.1,0.2,0.6],\n",
    "                [0,0,0.1,0,0.1,0.8]])\n",
    "\n",
    "#Cost Function\n",
    "cost_function = np.array([[0.1, 0.1, 0.1, 0.1],\n",
    "                         [0.1, 0.1, 0.1, 0.1],\n",
    "                         [0.1, 0.1, 0.1, 0.1],\n",
    "                         [0.1, 1, 0.1, 0.1],\n",
    "                         [1, 1, 1, 1],\n",
    "                         [0, 0, 0, 0]])"
   ]
  },
  {
   "cell_type": "markdown",
   "metadata": {},
   "source": [
    "#### (c)"
   ]
  },
  {
   "cell_type": "code",
   "execution_count": 6,
   "metadata": {},
   "outputs": [
    {
     "name": "stdout",
     "output_type": "stream",
     "text": [
      "[1.28062328 1.48282118 1.22285691 1.39022903 2.48145131 1.21051144]\n"
     ]
    }
   ],
   "source": [
    "from numpy.linalg import linalg\n",
    "\n",
    "identity_matrix = np.eye(6)\n",
    "inflation = 0.9\n",
    "up_cost = [0.1,0.1,0.1,0.1,1,0]\n",
    "\n",
    "aux1 = pmU*inflation\n",
    "aux2 = np.subtract(identity_matrix,aux1)\n",
    "aux3 = linalg.inv(aux2)\n",
    "cost_to_go = np.dot(aux3,up_cost)\n",
    "\n",
    "print(cost_to_go)\n"
   ]
  },
  {
   "cell_type": "code",
   "execution_count": null,
   "metadata": {
    "collapsed": true
   },
   "outputs": [],
   "source": []
  }
 ],
 "metadata": {
  "kernelspec": {
   "display_name": "Python 3",
   "language": "python",
   "name": "python3"
  },
  "language_info": {
   "codemirror_mode": {
    "name": "ipython",
    "version": 3
   },
   "file_extension": ".py",
   "mimetype": "text/x-python",
   "name": "python",
   "nbconvert_exporter": "python",
   "pygments_lexer": "ipython3",
   "version": "3.6.4"
  }
 },
 "nbformat": 4,
 "nbformat_minor": 1
}
