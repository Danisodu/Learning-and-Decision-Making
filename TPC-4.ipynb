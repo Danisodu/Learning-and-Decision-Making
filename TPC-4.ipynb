{
 "cells": [
  {
   "cell_type": "markdown",
   "metadata": {},
   "source": [
    "# Learning and Decision Making"
   ]
  },
  {
   "cell_type": "markdown",
   "metadata": {},
   "source": [
    "## Homework 4"
   ]
  },
  {
   "cell_type": "markdown",
   "metadata": {},
   "source": [
    "#### (a)"
   ]
  },
  {
   "cell_type": "code",
   "execution_count": 4,
   "metadata": {},
   "outputs": [
    {
     "data": {
      "image/png": "[encoded data removed]",
      "text/plain": [
       "<matplotlib.figure.Figure at 0x1c9e709b438>"
      ]
     },
     "metadata": {},
     "output_type": "display_data"
    },
    {
     "name": "stdout",
     "output_type": "stream",
     "text": [
      "Os pontos não são linearmente separáveis, pois não é possível traçar uma recta que divida os pontos de acordo com a sua classe corretamente.\n"
     ]
    }
   ],
   "source": [
    "import numpy as np\n",
    "import matplotlib.pyplot as plt\n",
    "import pandas as pd\n",
    "\n",
    "x = [1, 2, 2, 3, 5]\n",
    "y = [3, 2, 1, 1, 4]\n",
    "classAttr = [0, 1, 0, 0, 1]\n",
    "\n",
    "df = pd.DataFrame(dict(x=x, y=y, classattr=classAttr))\n",
    "\n",
    "fig, ax = plt.subplots()\n",
    "\n",
    "colors = {0: 'blue', 1: 'red'}\n",
    "ax.scatter(df['x'], df['y'], c=df['classattr'].apply(lambda x: colors[x]))\n",
    "\n",
    "plt.xlabel(\"φ1(x)\")\n",
    "plt.ylabel(\"φ2(x)\")\n",
    "plt.title(\"Training Data\")\n",
    "plt.show()\n",
    "\n",
    "print(\"Os pontos não são linearmente separáveis, pois não é possível traçar uma recta que divida os pontos de acordo\"\\\n",
    "      \" com a sua classe corretamente.\")"
   ]
  },
  {
   "cell_type": "markdown",
   "metadata": {},
   "source": [
    "#### (b)"
   ]
  },
  {
   "cell_type": "code",
   "execution_count": 38,
   "metadata": {},
   "outputs": [
    {
     "name": "stdout",
     "output_type": "stream",
     "text": [
      "[-0.15566362061593841, -0.14056196132121454, -0.14791074869132217]\n"
     ]
    }
   ],
   "source": [
    "from math import exp \n",
    "\n",
    "def calcPi(point,weights):\n",
    "    pi = weights[0]\n",
    "    \n",
    "    for i in range(len(point)-1):\n",
    "        pi += weights[i + 1] * point[i]\n",
    "    \n",
    "    return 1.0/(1.0 + exp(-pi))\n",
    "\n",
    "def calcWeights(data):\n",
    "    alpha = 1\n",
    "    weights = [0.0 for i in range(len(data[0]))]\n",
    "    \n",
    "    for point in data:\n",
    "        pi = calcPi(point,weights)\n",
    "        \n",
    "        weights[0] += alpha * (point[2] - pi) * pi * (1 - pi)\n",
    "        \n",
    "        for i in range(0, len(point)-1):\n",
    "            weights[i + 1] += alpha * (point[2] - pi) * pi * (1 - pi) * point[i]     \n",
    "            \n",
    "    return weights\n",
    "\n",
    "data = zip(x,y,classAttr)\n",
    "data = list(data)\n",
    "updatedWeights = calcWeights(data)\n",
    "print(updatedWeights)"
   ]
  },
  {
   "cell_type": "markdown",
   "metadata": {},
   "source": [
    "#### (c)"
   ]
  },
  {
   "cell_type": "code",
   "execution_count": 23,
   "metadata": {},
   "outputs": [
    {
     "name": "stdout",
     "output_type": "stream",
     "text": [
      "0.0\n",
      "-1.125\n",
      "0.22771187402437032\n",
      "-0.7169994283442241\n",
      "-3.103232880883186\n",
      ">epoch=0, lrate=1.000, error=2.153\n",
      "[-0.15566362061593841, -0.14056196132121454, -0.14791074869132217]\n"
     ]
    }
   ],
   "source": [
    "from math import exp\n",
    " \n",
    "# Make a prediction with coefficients\n",
    "def predict(row, coefficients):\n",
    "    yhat = coefficients[0]\n",
    "    for i in range(len(row)-1):\n",
    "        yhat += coefficients[i + 1] * row[i]\n",
    "    print(yhat)\n",
    "    return 1.0 / (1.0 + exp(-yhat))\n",
    " \n",
    "def coefficients_sgd(train, l_rate, n_epoch):\n",
    "\tcoef = [0.0 for i in range(len(train[0]))]\n",
    "\tfor epoch in range(n_epoch):\n",
    "\t\tsum_error = 0\n",
    "\t\tfor row in train:\n",
    "\t\t\tyhat = predict(row, coef)\n",
    "\t\t\terror = row[-1] - yhat\n",
    "\t\t\tsum_error += error**2\n",
    "\t\t\tcoef[0] = coef[0] + l_rate * error * yhat * (1.0 - yhat)\n",
    "\t\t\tfor i in range(len(row)-1):\n",
    "\t\t\t\tcoef[i + 1] = coef[i + 1] + l_rate * error * yhat * (1.0 - yhat) * row[i]\n",
    "\t\tprint('>epoch=%d, lrate=%.3f, error=%.3f' % (epoch, l_rate, sum_error))\n",
    "\treturn coef\n",
    " \n",
    "# Calculate coefficients\n",
    "dataset = [[1,3,0],\n",
    "\t[2,2,1],\n",
    "\t[2,1,0],\n",
    "\t[3,1,0],\n",
    "\t[5,4,1]]\n",
    "l_rate = 1\n",
    "n_epoch = 1\n",
    "coef = coefficients_sgd(dataset, l_rate, n_epoch)\n",
    "print(coef)"
   ]
  },
  {
   "cell_type": "code",
   "execution_count": null,
   "metadata": {},
   "outputs": [],
   "source": []
  }
 ],
 "metadata": {
  "kernelspec": {
   "display_name": "Python 3",
   "language": "python",
   "name": "python3"
  },
  "language_info": {
   "codemirror_mode": {
    "name": "ipython",
    "version": 3
   },
   "file_extension": ".py",
   "mimetype": "text/x-python",
   "name": "python",
   "nbconvert_exporter": "python",
   "pygments_lexer": "ipython3",
   "version": "3.6.4"
  }
 },
 "nbformat": 4,
 "nbformat_minor": 2
}
