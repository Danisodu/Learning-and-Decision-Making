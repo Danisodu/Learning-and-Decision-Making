{
 "cells": [
  {
   "cell_type": "markdown",
   "metadata": {},
   "source": [
    "# Learning and Decision Making"
   ]
  },
  {
   "cell_type": "markdown",
   "metadata": {},
   "source": [
    "## Laboratory 3: Markov decision problems\n",
    "\n",
    "In the end of the lab, you should submit all code/answers written in the tasks marked as \"Activity n. XXX\", together with the corresponding outputs and any replies to specific questions posed to the e-mail <adi.tecnico@gmail.com>. Make sure that the subject is of the form [&lt;group n.&gt;] LAB &lt;lab n.&gt;.\n",
    "\n",
    "### 1. Modeling\n",
    "\n",
    "Consider once again the knight domain described in the Homework and which you described as a Markov decision process.\n",
    "\n",
    "<img src=\"knight.png\" width=\"200px\">\n",
    "\n",
    "Recall that:\n",
    "\n",
    "* At each step, the knight may move in any of the four directions---up, down, left and right. \n",
    "\n",
    "* The movement succeeds with a 0.6 probability and fails with a 0.4 probability. When the movement fails, the knight may stay in the same cell or move to one of the immediately adjacent cells (if there is one) with equal probability.\n",
    "\n",
    "* The goal of the knight is to save (reach) the princess and avoid the dragon.\n",
    "\n",
    "**Throughout the lab, use $\\gamma=0.99$.**"
   ]
  },
  {
   "cell_type": "markdown",
   "metadata": {},
   "source": [
    "---\n",
    "\n",
    "#### Activity 1.        \n",
    "\n",
    "Implement your Markov decision process in Python. In particular,\n",
    "\n",
    "* Create a list with all the states;\n",
    "* Create a list with all the actions;\n",
    "* For each action, define a `numpy` array with the corresponding transition probabilities;\n",
    "* Define a `numpy`array with the costs. Make sure that:\n",
    "    * The costs lie in the interval [0, 1]\n",
    "    * The cost for standing in the princess's cell is minimal\n",
    "    * The cost for standing in the dragon's cell is maximal\n",
    "    * The costs for the intermediate cells are around 1/5 of those of standing in the dragon's cell\n",
    "\n",
    "The order for the states and actions used in the transition probability and cost matrices should match that in the lists of states and actions. \n",
    "\n",
    "**Note**: Don't forget to import `numpy`.\n",
    "\n",
    "---"
   ]
  },
  {
   "cell_type": "code",
   "execution_count": 1,
   "metadata": {
    "raw_mimetype": "text/x-python"
   },
   "outputs": [],
   "source": [
    "import numpy as np\n",
    "\n",
    "X = [0,1,2,3,4,5]\n",
    "\n",
    "#0 corresponds to cell 1\n",
    "#1 corresponds to cell 2\n",
    "#2 corresponds to cell 3\n",
    "#3 corresponds to cell 4\n",
    "#4 corresponds to cell 5\n",
    "#5 corresponds to cell 6\n",
    "\n",
    "A = ['LEFT','RIGHT','UP','DOWN']\n",
    "\n",
    "\n",
    "#Transition probabilities matrix for L\n",
    "pmL = np.array([[0.8,0.1,0,0.1,0,0],\n",
    "                [0.6,0.2,0.1,0,0.1,0],\n",
    "                [0,0.6,0.3,0,0,0.1],\n",
    "                [0.1,0,0,0.8,0.1,0],\n",
    "                [0,0.1,0,0.6,0.2,0.1],\n",
    "                [0,0,0.1,0,0.6,0.3]])\n",
    "\n",
    "#Transition probabilities matrix for R\n",
    "pmR = np.array([[0.3,0.6,0,0.1,0,0],\n",
    "                [0.1,0.2,0.6,0,0.1,0],\n",
    "                [0,0.1,0.8,0,0,0.1],\n",
    "                [0.1,0,0,0.3,0.6,0],\n",
    "                [0,0.1,0,0.1,0.2,0.6],\n",
    "                [0,0,0.1,0,0.1,0.8]])\n",
    "\n",
    "#Transition probabilities matrix for U\n",
    "pmU = np.array([[0.8,0.1,0,0.1,0,0],\n",
    "                [0.1,0.7,0.1,0,0.1,0],\n",
    "                [0,0.1,0.8,0,0,0.1],\n",
    "                [0.6,0,0,0.3,0.1,0],\n",
    "                [0,0.6,0,0.1,0.2,0.1],\n",
    "                [0,0,0.6,0,0.1,0.3]])\n",
    "\n",
    "#Transition probabilities matrix for D\n",
    "pmD = np.array([[0.3,0.1,0,0.6,0,0],\n",
    "                [0.1,0.2,0.1,0,0.6,0],\n",
    "                [0,0.1,0.3,0,0,0.6],\n",
    "                [0.1,0,0,0.8,0.1,0],\n",
    "                [0,0.1,0,0.1,0.7,0.1],\n",
    "                [0,0,0.1,0,0.1,0.8]])\n",
    "\n",
    "\n",
    "#Cost Function\n",
    "cost_function = np.array([[0.2, 0.2, 0.2, 0.2],\n",
    "                         [0.2, 0.2, 0.2, 0.2],\n",
    "                         [0.2, 0.2, 0.2, 0.2],\n",
    "                         [0.2, 0.2, 0.2, 0.2],\n",
    "                         [1, 1, 1, 1],\n",
    "                         [0, 0, 0, 0]])"
   ]
  },
  {
   "cell_type": "markdown",
   "metadata": {},
   "source": [
    "### 2. Prediction\n",
    "\n",
    "You are now going to evaluate a given policy, computing the corresponding cost-to-go."
   ]
  },
  {
   "cell_type": "markdown",
   "metadata": {
    "raw_mimetype": "text/latex"
   },
   "source": [
    "---\n",
    "\n",
    "#### Activity 2.\n",
    "\n",
    "Describe the policy that, in each state $x$, always moves the knight to the cell closest to the princess (irrespectively of the dragon). If multiple such cells exist, the knight should select randomly between the two.\n",
    "\n",
    "For example, suppose that the knight is in cell 1. The knight should then select randomly between the actions _D_ and _R_. Conversely, suppose that the knight is in cell 4. The knight should then select actions _R_ with probability 1.\n",
    "\n",
    "**Note:** The policy should be described as a vector with as many rows as there are states and as many columns as there are actions, where the entry _xa_ has the probability of selecting action _a_ in state _x_.\n",
    "\n",
    "---"
   ]
  },
  {
   "cell_type": "code",
   "execution_count": 2,
   "metadata": {},
   "outputs": [],
   "source": [
    "my_policy = np.array([[0, 0.5, 0, 0.5],\n",
    "                      [0, 0.5, 0, 0.5],\n",
    "                      [0, 0, 0, 1],\n",
    "                      [0, 1, 0, 0],\n",
    "                      [0, 1, 0, 0],\n",
    "                      [0, 0.5, 0, 0.5]])"
   ]
  },
  {
   "cell_type": "markdown",
   "metadata": {},
   "source": [
    "---\n",
    "\n",
    "#### Activity 3.\n",
    "\n",
    "Compute the cost-to-go function $J^\\pi$ associated with the policy from Activity 2.\n",
    "\n",
    "---"
   ]
  },
  {
   "cell_type": "code",
   "execution_count": 3,
   "metadata": {},
   "outputs": [
    {
     "name": "stdout",
     "output_type": "stream",
     "text": [
      "[[16.26056701]\n",
      " [15.95826371]\n",
      " [15.28584405]\n",
      " [16.45495016]\n",
      " [16.42766638]\n",
      " [15.09441121]]\n"
     ]
    }
   ],
   "source": [
    "from numpy.linalg import linalg\n",
    "\n",
    "identity_matrix = np.eye(6)\n",
    "inflation = 0.99\n",
    "cpi = (cost_function * my_policy).sum(axis=1) #cost_function[:,0] * my_policy[:,0] + ..\n",
    "ppi = my_policy[:,0,None]*pmL + my_policy[:,1,None]*pmR + my_policy[:,2,None]*pmU + my_policy[:,3,None]*pmD\n",
    "\n",
    "aux1 = ppi*inflation\n",
    "aux2 = np.subtract(identity_matrix,aux1)\n",
    "aux3 = linalg.inv(aux2)\n",
    "cost_to_go = np.reshape(np.dot(aux3,cpi),(6,1))\n",
    "\n",
    "print(cost_to_go)"
   ]
  },
  {
   "cell_type": "markdown",
   "metadata": {},
   "source": [
    "### 3. Control\n",
    "\n",
    "In this section you are going to compare value and policy iteration, both in terms of time and number of iterations."
   ]
  },
  {
   "cell_type": "markdown",
   "metadata": {},
   "source": [
    "---\n",
    "\n",
    "#### Activity 4\n",
    "\n",
    "Show that the policy in Activity 3 is _not_ optimal: use value iteration to compute $J^*$ and show that $J^*\\neq J^\\pi$. Track the time and the number of iterations taken to compute $J^*$.\n",
    "\n",
    "**Note 1:** Stop the algorithm when the error between iterations is smaller than $10^{-8}$.\n",
    "\n",
    "**Note 2:** You may find useful the function ``time()`` from the module ``time``.\n",
    "\n",
    "---"
   ]
  },
  {
   "cell_type": "code",
   "execution_count": 4,
   "metadata": {
    "scrolled": false
   },
   "outputs": [
    {
     "name": "stdout",
     "output_type": "stream",
     "text": [
      "Time: 0.043898582458496094s\n",
      "Iterations: 1726\n",
      "[[14.06797074]\n",
      " [13.93809867]\n",
      " [13.67954678]\n",
      " [14.24800834]\n",
      " [14.74722471]\n",
      " [13.53004987]]\n",
      "In any state, the cost to go values are always less than the ones calculated previously, proving that the policy is not optimal\n"
     ]
    }
   ],
   "source": [
    "import time\n",
    "\n",
    "i = 0\n",
    "error = 1\n",
    "cost_left = np.reshape(cost_function[:,0],(6,1))\n",
    "cost_right = np.reshape(cost_function[:,1],(6,1))\n",
    "cost_up = np.reshape(cost_function[:,2],(6,1))\n",
    "cost_down = np.reshape(cost_function[:,3],(6,1))\n",
    "J = np.zeros((6,1))\n",
    "t1 = time.time()\n",
    "\n",
    "while error > 1e-8:\n",
    "    Ql = cost_left + inflation * pmL.dot(J)\n",
    "    Qr = cost_right + inflation * pmR.dot(J)\n",
    "    Qu = cost_up + inflation * pmU.dot(J)\n",
    "    Qd = cost_down + inflation * pmD.dot(J)\n",
    "    \n",
    "    Jnew = np.min((Ql, Qr, Qu, Qd), axis=0)\n",
    "    error = np.linalg.norm(Jnew - J)\n",
    "    J = Jnew\n",
    "    i += 1\n",
    "    \n",
    "t2 = time.time()\n",
    "\n",
    "print(\"Time: \" + str(t2-t1) + 's')\n",
    "print(\"Iterations: \" + str(i))\n",
    "print(J)\n",
    "print(\"In any state, the cost to go values are always less than the ones calculated previously, proving \\\n",
    "that the policy is not optimal\")\n",
    "    "
   ]
  },
  {
   "cell_type": "markdown",
   "metadata": {},
   "source": [
    "---\n",
    "\n",
    "#### Activity 5\n",
    "\n",
    "Compute once again the optimal policy now using policy iteration. Track the time and number of iterations taken and compare to those of Activity 4.\n",
    "\n",
    "**Note:** If you find that numerical errors affect your computations (especially when comparing two values/arrays) you may use the `numpy` function `isclose` with adequately set absolute and relative tolerance parameters (e.g., $10^{-8}$).\n",
    "\n",
    "---"
   ]
  },
  {
   "cell_type": "code",
   "execution_count": 5,
   "metadata": {
    "scrolled": false
   },
   "outputs": [
    {
     "name": "stdout",
     "output_type": "stream",
     "text": [
      "Time: 0.0024123191833496094s\n",
      "Iterations: 3\n",
      "[[0.  1.  0.  0. ]\n",
      " [0.  1.  0.  0. ]\n",
      " [0.  0.  0.  1. ]\n",
      " [0.  0.  1.  0. ]\n",
      " [0.  1.  0.  0. ]\n",
      " [0.  0.5 0.  0.5]]\n"
     ]
    }
   ],
   "source": [
    "import time\n",
    "\n",
    "i = 0\n",
    "pi = np.ones((6,4)) / 4\n",
    "t1 = time.time()\n",
    "quit = False\n",
    "\n",
    "while not quit:\n",
    "    cpi = np.diag(pi[:,0]).dot(cost_left) + np.diag(pi[:,1]).dot(cost_right) + np.diag(pi[:,2]).dot(cost_up) + np.diag(pi[:,3]).dot(cost_down) \n",
    "    ppi = np.diag(pi[:,0]).dot(pmL) + np.diag(pi[:,1]).dot(pmR) + np.diag(pi[:,2]).dot(pmU) + np.diag(pi[:,3]).dot(pmD) \n",
    "    J = np.linalg.inv(np.eye(6) - inflation * ppi).dot(cpi)\n",
    "    \n",
    "    Ql = cost_left + inflation * pmL.dot(J)\n",
    "    Qr = cost_right + inflation * pmR.dot(J)\n",
    "    Qu = cost_up + inflation * pmU.dot(J)\n",
    "    Qd = cost_down + inflation * pmD.dot(J)\n",
    "    \n",
    "    pinew = np.zeros((6,4))\n",
    "    pinew[:,0,None] = np.isclose(Ql,np.min([Ql,Qr,Qu,Qd], axis = 0), atol = 1e-8, rtol = 1e-8).astype(int)\n",
    "    pinew[:,1,None] = np.isclose(Qr,np.min([Ql,Qr,Qu,Qd], axis = 0), atol = 1e-8, rtol = 1e-8).astype(int)\n",
    "    pinew[:,2,None] = np.isclose(Qu,np.min([Ql,Qr,Qu,Qd], axis = 0), atol = 1e-8, rtol = 1e-8).astype(int)\n",
    "    pinew[:,3,None] = np.isclose(Qd,np.min([Ql,Qr,Qu,Qd], axis = 0), atol = 1e-8, rtol = 1e-8).astype(int)\n",
    "    pinew = pinew / np.sum(pinew, axis=1,keepdims = True)\n",
    "    \n",
    "    quit = (pi == pinew).all()\n",
    "    pi = pinew\n",
    "    i += 1\n",
    "    \n",
    "t2 = time.time()\n",
    "\n",
    "print(\"Time: \" + str(t2-t1) + 's')\n",
    "print(\"Iterations: \" + str(i))\n",
    "print(pi)\n",
    "    "
   ]
  },
  {
   "cell_type": "markdown",
   "metadata": {},
   "source": [
    "### 4. Simulation\n",
    "\n",
    "Finally, in this section you will check whether the theoretical computations of the cost-to-go actually correspond to the cost incurred by an agent following a policy."
   ]
  },
  {
   "cell_type": "markdown",
   "metadata": {},
   "source": [
    "---\n",
    "\n",
    "#### Activity 6\n",
    "\n",
    "Starting both in cell 1 and cell 5 in the figure, \n",
    "\n",
    "* Generate **100** trajectories of 10,000 steps each, following the optimal policy for the MDP. \n",
    "* For each trajectory, compute the accumulated (discounted) cost. \n",
    "* Compute the average cost over the 100 trajectories.\n",
    "* Compare the resulting value with that computed in Activity 4 for the two states. \n",
    "\n",
    "** Note:** The simulation may take a bit of time, don't despair ☺️.\n",
    "\n",
    "---"
   ]
  },
  {
   "cell_type": "code",
   "execution_count": null,
   "metadata": {},
   "outputs": [
    {
     "name": "stdout",
     "output_type": "stream",
     "text": [
      "Starting on state 1  the cost was = 14.304002435636463\n"
     ]
    }
   ],
   "source": [
    "from numpy import random as rand\n",
    "\n",
    "p = {0 : pmL, 1 : pmR, 2 : pmU, 3 : pmD}\n",
    "cells = [0,4]\n",
    "costs = []\n",
    "A = np.arange(0, 4)\n",
    "\n",
    "for cell in cells:\n",
    "    for trajectory in range(0,100):\n",
    "        cost = 0\n",
    "        inflation = 1\n",
    "        current_cell = cell\n",
    "        for step in range(0,10000):\n",
    "            random_choice = rand.choice(A, p = pi[current_cell, :])\n",
    "            prob = p[random_choice]\n",
    "            cost += cost_function[current_cell][random_choice] * inflation\n",
    "            inflation *= 0.99\n",
    "            nextState = rand.choice(X, p = prob[current_cell])\n",
    "            current_cell = nextState\n",
    "        costs.append(cost)\n",
    "    print(\"Starting on state\", cell + 1, \" the cost was =\", np.sum(costs)/100)\n",
    "    costs = []\n",
    "\n",
    "print(\"Comparing the result with that computed in Activity 4 the values are approximately equal\")"
   ]
  },
  {
   "cell_type": "code",
   "execution_count": null,
   "metadata": {},
   "outputs": [],
   "source": []
  }
 ],
 "metadata": {
  "celltoolbar": "Raw Cell Format",
  "kernelspec": {
   "display_name": "Python 3",
   "language": "python",
   "name": "python3"
  },
  "language_info": {
   "codemirror_mode": {
    "name": "ipython",
    "version": 3
   },
   "file_extension": ".py",
   "mimetype": "text/x-python",
   "name": "python",
   "nbconvert_exporter": "python",
   "pygments_lexer": "ipython3",
   "version": "3.6.4"
  }
 },
 "nbformat": 4,
 "nbformat_minor": 1
}
